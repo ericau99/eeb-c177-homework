{
 "cells": [
  {
   "cell_type": "code",
   "execution_count": 1,
   "metadata": {},
   "outputs": [
    {
     "data": {
      "text/plain": [
       "23"
      ]
     },
     "execution_count": 1,
     "metadata": {},
     "output_type": "execute_result"
    }
   ],
   "source": [
    "3 + 5 * 4"
   ]
  },
  {
   "cell_type": "code",
   "execution_count": 2,
   "metadata": {},
   "outputs": [],
   "source": [
    "weight_kg = 60"
   ]
  },
  {
   "cell_type": "code",
   "execution_count": 7,
   "metadata": {},
   "outputs": [],
   "source": [
    "weight_kg_text = \"weight in kilograms:\""
   ]
  },
  {
   "cell_type": "code",
   "execution_count": 8,
   "metadata": {},
   "outputs": [
    {
     "name": "stdout",
     "output_type": "stream",
     "text": [
      "weight in kilograms: 60\n"
     ]
    }
   ],
   "source": [
    "print(weight_kg_text, weight_kg)"
   ]
  },
  {
   "cell_type": "code",
   "execution_count": 9,
   "metadata": {},
   "outputs": [
    {
     "name": "stdout",
     "output_type": "stream",
     "text": [
      "Weight in pounds: 132.0\n"
     ]
    }
   ],
   "source": [
    "print('Weight in pounds:',weight_kg *2.2)"
   ]
  },
  {
   "cell_type": "code",
   "execution_count": 16,
   "metadata": {},
   "outputs": [
    {
     "name": "stdout",
     "output_type": "stream",
     "text": [
      "6210\n",
      "18630\n"
     ]
    }
   ],
   "source": [
    "print(weight_kg)\n",
    "weight_kg = weight_kg *3\n",
    "print(weight_kg)\n",
    "weight_kg = weight_kg +1"
   ]
  },
  {
   "cell_type": "code",
   "execution_count": 19,
   "metadata": {},
   "outputs": [
    {
     "name": "stdout",
     "output_type": "stream",
     "text": [
      "11\n",
      "12\n"
     ]
    }
   ],
   "source": [
    "x = 5\n",
    "y = 6\n"
   ]
  },
  {
   "cell_type": "code",
   "execution_count": 21,
   "metadata": {},
   "outputs": [
    {
     "name": "stdout",
     "output_type": "stream",
     "text": [
      "12\n",
      "12\n"
     ]
    }
   ],
   "source": [
    "print(x+y)\n",
    "x = y \n",
    "print(x+y)"
   ]
  },
  {
   "cell_type": "code",
   "execution_count": 22,
   "metadata": {},
   "outputs": [
    {
     "name": "stdout",
     "output_type": "stream",
     "text": [
      "237.5 112\n"
     ]
    }
   ],
   "source": [
    "mass = 47.5\n",
    "age = 122\n",
    "mass = mass * 5.0\n",
    "age = age - 10\n",
    "print(mass, age)"
   ]
  },
  {
   "cell_type": "code",
   "execution_count": 23,
   "metadata": {},
   "outputs": [
    {
     "name": "stdout",
     "output_type": "stream",
     "text": [
      "Shawn Grace\n"
     ]
    }
   ],
   "source": [
    "first, second = \"Grace\", \"Shawn\"\n",
    "third, fourth = second, first\n",
    "print(third, fourth)"
   ]
  },
  {
   "cell_type": "code",
   "execution_count": 25,
   "metadata": {},
   "outputs": [
    {
     "data": {
      "text/plain": [
       "array([[0., 0., 1., ..., 3., 0., 0.],\n",
       "       [0., 1., 2., ..., 1., 0., 1.],\n",
       "       [0., 1., 1., ..., 2., 1., 1.],\n",
       "       ...,\n",
       "       [0., 0., 1., ..., 3., 0., 0.],\n",
       "       [0., 1., 2., ..., 1., 0., 1.],\n",
       "       [0., 1., 1., ..., 2., 1., 1.]])"
      ]
     },
     "execution_count": 25,
     "metadata": {},
     "output_type": "execute_result"
    }
   ],
   "source": [
    "import numpy \n",
    "\n",
    "numpy.loadtxt(fname=\"inflammation-01.csv\", delimiter=\",\")"
   ]
  },
  {
   "cell_type": "code",
   "execution_count": 27,
   "metadata": {},
   "outputs": [
    {
     "name": "stdout",
     "output_type": "stream",
     "text": [
      "[[0. 0. 1. ... 3. 0. 0.]\n",
      " [0. 1. 2. ... 1. 0. 1.]\n",
      " [0. 1. 1. ... 2. 1. 1.]\n",
      " ...\n",
      " [0. 0. 1. ... 3. 0. 0.]\n",
      " [0. 1. 2. ... 1. 0. 1.]\n",
      " [0. 1. 1. ... 2. 1. 1.]]\n"
     ]
    }
   ],
   "source": [
    "medical_data = numpy.loadtxt(fname=\"inflammation-01.csv\", delimiter=\",\")\n",
    "\n",
    "\n",
    "print(medical_data)\n"
   ]
  },
  {
   "cell_type": "code",
   "execution_count": 30,
   "metadata": {},
   "outputs": [
    {
     "name": "stdout",
     "output_type": "stream",
     "text": [
      "<class 'numpy.ndarray'>\n",
      "<class 'int'>\n",
      "<class 'str'>\n"
     ]
    }
   ],
   "source": [
    "print(type(medical_data))\n",
    "print(type(weight_kg))\n",
    "print(type(weight_kg_text))"
   ]
  },
  {
   "cell_type": "code",
   "execution_count": 31,
   "metadata": {},
   "outputs": [
    {
     "name": "stdout",
     "output_type": "stream",
     "text": [
      "float64\n"
     ]
    }
   ],
   "source": [
    "print(medical_data.dtype)"
   ]
  },
  {
   "cell_type": "code",
   "execution_count": 32,
   "metadata": {},
   "outputs": [
    {
     "name": "stdout",
     "output_type": "stream",
     "text": [
      "(54, 40)\n"
     ]
    }
   ],
   "source": [
    "#rows, columns \n",
    "print(medical_data.shape)"
   ]
  },
  {
   "cell_type": "code",
   "execution_count": 33,
   "metadata": {},
   "outputs": [],
   "source": [
    "colors = [\"red\", \"green\", \"blue\"]"
   ]
  },
  {
   "cell_type": "code",
   "execution_count": 34,
   "metadata": {},
   "outputs": [
    {
     "name": "stdout",
     "output_type": "stream",
     "text": [
      "red\n"
     ]
    }
   ],
   "source": [
    "print(colors[0])"
   ]
  },
  {
   "cell_type": "code",
   "execution_count": 35,
   "metadata": {},
   "outputs": [
    {
     "name": "stdout",
     "output_type": "stream",
     "text": [
      "first value in medical data: 0.0\n"
     ]
    }
   ],
   "source": [
    "print('first value in medical data:', medical_data[0,0])"
   ]
  },
  {
   "cell_type": "code",
   "execution_count": 36,
   "metadata": {},
   "outputs": [
    {
     "name": "stdout",
     "output_type": "stream",
     "text": [
      "point in medical data 6.0\n"
     ]
    }
   ],
   "source": [
    "print('point in medical data', medical_data[30,20])"
   ]
  },
  {
   "cell_type": "code",
   "execution_count": 37,
   "metadata": {},
   "outputs": [
    {
     "name": "stdout",
     "output_type": "stream",
     "text": [
      "(54, 40)\n"
     ]
    }
   ],
   "source": [
    "print(medical_data.shape)"
   ]
  },
  {
   "cell_type": "code",
   "execution_count": 42,
   "metadata": {},
   "outputs": [
    {
     "name": "stdout",
     "output_type": "stream",
     "text": [
      "54\n",
      "40\n",
      "27 20\n",
      "middle value of medical data: 6.0\n"
     ]
    }
   ],
   "source": [
    "med_data_shape = medical_data.shape\n",
    "print(med_data_shape[0])\n",
    "print(med_data_shape[1])\n",
    "middle_of_rows = int(med_data_shape[0]/2)\n",
    "middle_of_cols = int(med_data_shape[1]/2)\n",
    "print(middle_of_rows, middle_of_cols)\n",
    "\n",
    "print('middle value of medical data:', medical_data[middle_of_rows, middle_of_cols])"
   ]
  },
  {
   "cell_type": "code",
   "execution_count": 44,
   "metadata": {},
   "outputs": [
    {
     "name": "stdout",
     "output_type": "stream",
     "text": [
      "[[0. 1. 1. 3. 3. 2. 6. 2. 5. 9.]\n",
      " [0. 0. 1. 3. 1. 2. 4. 7. 8. 3.]\n",
      " [0. 1. 2. 1. 2. 1. 3. 2. 2. 6.]\n",
      " [0. 1. 1. 3. 3. 2. 6. 2. 5. 9.]\n",
      " [0. 0. 1. 3. 1. 2. 4. 7. 8. 3.]]\n"
     ]
    }
   ],
   "source": [
    "##slicing data\n",
    "#print(medical_data[0:4, 0:10])\n",
    "\n",
    "\n",
    "print(medical_data[5:10, 0:10])\n"
   ]
  },
  {
   "cell_type": "code",
   "execution_count": 45,
   "metadata": {},
   "outputs": [
    {
     "name": "stdout",
     "output_type": "stream",
     "text": [
      "bruin is:\n",
      "\n",
      "[[2. 3. 0. 0.]\n",
      " [1. 1. 0. 1.]\n",
      " [2. 2. 1. 1.]]\n"
     ]
    }
   ],
   "source": [
    "bruin = medical_data[:3, 36:]\n",
    "print('bruin is:\\n')\n",
    "print(bruin)\n",
    "#:3 is indexes 0,1,2\n",
    "##36: is indexes 36,37, 38, 39"
   ]
  },
  {
   "cell_type": "code",
   "execution_count": 46,
   "metadata": {},
   "outputs": [],
   "source": [
    "import numpy as np"
   ]
  },
  {
   "cell_type": "code",
   "execution_count": 47,
   "metadata": {},
   "outputs": [
    {
     "name": "stdout",
     "output_type": "stream",
     "text": [
      "Mon Jan 27 12:06:40 2020\n"
     ]
    }
   ],
   "source": [
    "import time\n",
    "print(time.ctime())"
   ]
  },
  {
   "cell_type": "code",
   "execution_count": 48,
   "metadata": {},
   "outputs": [],
   "source": [
    "meanval, stdval = np.mean(medical_data), np.std(medical_data)"
   ]
  },
  {
   "cell_type": "code",
   "execution_count": 50,
   "metadata": {},
   "outputs": [
    {
     "name": "stdout",
     "output_type": "stream",
     "text": [
      "mean 5.658333333333333 , standard deviation: 4.352194529455482\n"
     ]
    }
   ],
   "source": [
    "print('mean',meanval,', standard deviation:', stdval)"
   ]
  },
  {
   "cell_type": "code",
   "execution_count": 51,
   "metadata": {},
   "outputs": [
    {
     "name": "stdout",
     "output_type": "stream",
     "text": [
      "max: 19.0 , min: 0.0\n"
     ]
    }
   ],
   "source": [
    "maxval, minval =np.max(medical_data), np.min(medical_data)\n",
    "print('max:', maxval,', min:', minval)"
   ]
  },
  {
   "cell_type": "code",
   "execution_count": 52,
   "metadata": {},
   "outputs": [
    {
     "data": {
      "text/plain": [
       "54"
      ]
     },
     "execution_count": 52,
     "metadata": {},
     "output_type": "execute_result"
    }
   ],
   "source": [
    "len(medical_data)"
   ]
  },
  {
   "cell_type": "code",
   "execution_count": 56,
   "metadata": {},
   "outputs": [
    {
     "name": "stdout",
     "output_type": "stream",
     "text": [
      "[ 0.  0.  1.  3.  1.  2.  4.  7.  8.  3.  3.  3. 10.  5.  7.  4.  7.  7.\n",
      " 12. 18.  6. 13. 11. 11.  7.  7.  4.  6.  8.  8.  4.  4.  5.  7.  3.  4.\n",
      "  2.  3.  0.  0.]\n",
      "0.0\n"
     ]
    }
   ],
   "source": [
    "patient_1 = medical_data[0,:]\n",
    "print(patient_1)\n",
    "len(patient_1)\n",
    "print(patient_1[1])"
   ]
  },
  {
   "cell_type": "code",
   "execution_count": 58,
   "metadata": {},
   "outputs": [
    {
     "name": "stdout",
     "output_type": "stream",
     "text": [
      "max inflammation for patient 1: 18.0\n"
     ]
    }
   ],
   "source": [
    "max_infl_pt1 = np.max(patient_1)\n",
    "print('max inflammation for patient 1:', max_infl_pt1) "
   ]
  },
  {
   "cell_type": "code",
   "execution_count": 59,
   "metadata": {},
   "outputs": [
    {
     "name": "stdout",
     "output_type": "stream",
     "text": [
      "max inflammation for patient 2: 18.0\n"
     ]
    }
   ],
   "source": [
    "print('max inflammation for patient 2:' ,np.max(medical_data[1,:]))"
   ]
  },
  {
   "cell_type": "code",
   "execution_count": 60,
   "metadata": {},
   "outputs": [
    {
     "name": "stdout",
     "output_type": "stream",
     "text": [
      "[18. 18. 19. 18. 18. 19. 18. 18. 19. 18. 18. 19. 18. 18. 19. 18. 18. 19.\n",
      " 18. 18. 19. 18. 18. 19. 18. 18. 19. 18. 18. 19. 18. 18. 19. 18. 18. 19.\n",
      " 18. 18. 19. 18. 18. 19. 18. 18. 19. 18. 18. 19. 18. 18. 19. 18. 18. 19.]\n"
     ]
    }
   ],
   "source": [
    "print(np.max(medical_data, axis=1))"
   ]
  },
  {
   "cell_type": "code",
   "execution_count": 61,
   "metadata": {},
   "outputs": [
    {
     "name": "stdout",
     "output_type": "stream",
     "text": [
      "[ 0.  1.  2.  3.  3.  2.  6.  7.  8.  9. 10. 11. 10.  9.  7. 15.  7. 16.\n",
      " 12. 18. 19. 14. 12. 17. 12. 12. 11.  7. 11.  8. 10.  5.  5.  7.  5.  5.\n",
      "  2.  3.  1.  1.]\n"
     ]
    }
   ],
   "source": [
    "print(np.max(medical_data, axis=0))"
   ]
  },
  {
   "cell_type": "code",
   "execution_count": 64,
   "metadata": {},
   "outputs": [],
   "source": [
    "def hello_person(name, friend):\n",
    "    print(\"Hello\", name, \", and your friend\", friend, \"too!\")"
   ]
  },
  {
   "cell_type": "code",
   "execution_count": 65,
   "metadata": {},
   "outputs": [
    {
     "name": "stdout",
     "output_type": "stream",
     "text": [
      "Hello Eric , and your friend Steven too!\n"
     ]
    }
   ],
   "source": [
    "hello_person(\"Eric\", \"Steven\")"
   ]
  },
  {
   "cell_type": "code",
   "execution_count": 70,
   "metadata": {},
   "outputs": [],
   "source": [
    "def square_numbers(x):\n",
    "    return(x*x)"
   ]
  },
  {
   "cell_type": "code",
   "execution_count": 71,
   "metadata": {},
   "outputs": [],
   "source": [
    "sq1 = square_numbers(5)"
   ]
  },
  {
   "cell_type": "code",
   "execution_count": 72,
   "metadata": {},
   "outputs": [
    {
     "name": "stdout",
     "output_type": "stream",
     "text": [
      "25\n"
     ]
    }
   ],
   "source": [
    "print(sq1)"
   ]
  },
  {
   "cell_type": "code",
   "execution_count": 75,
   "metadata": {},
   "outputs": [],
   "source": [
    "5**3\n",
    "\n",
    "def pp(base, exponent):\n",
    "    return(base**exponent)"
   ]
  },
  {
   "cell_type": "code",
   "execution_count": 76,
   "metadata": {},
   "outputs": [
    {
     "data": {
      "text/plain": [
       "25"
      ]
     },
     "execution_count": 76,
     "metadata": {},
     "output_type": "execute_result"
    }
   ],
   "source": [
    "pp(5,2)"
   ]
  },
  {
   "cell_type": "code",
   "execution_count": 77,
   "metadata": {},
   "outputs": [
    {
     "data": {
      "text/plain": [
       "125000"
      ]
     },
     "execution_count": 77,
     "metadata": {},
     "output_type": "execute_result"
    }
   ],
   "source": [
    "pp(50,3)"
   ]
  },
  {
   "cell_type": "code",
   "execution_count": null,
   "metadata": {},
   "outputs": [],
   "source": []
  }
 ],
 "metadata": {
  "kernelspec": {
   "display_name": "Python 3",
   "language": "python",
   "name": "python3"
  },
  "language_info": {
   "codemirror_mode": {
    "name": "ipython",
    "version": 3
   },
   "file_extension": ".py",
   "mimetype": "text/x-python",
   "name": "python",
   "nbconvert_exporter": "python",
   "pygments_lexer": "ipython3",
   "version": "3.7.5"
  }
 },
 "nbformat": 4,
 "nbformat_minor": 2
}
